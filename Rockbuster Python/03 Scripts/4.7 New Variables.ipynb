{
 "cells": [
  {
   "cell_type": "markdown",
   "id": "a6ba055c",
   "metadata": {},
   "source": [
    "# Import Libraries"
   ]
  },
  {
   "cell_type": "code",
   "execution_count": 1,
   "id": "3b3caa13",
   "metadata": {},
   "outputs": [],
   "source": [
    "# import libraries\n",
    "import pandas as pd\n",
    "import numpy as np\n",
    "import os"
   ]
  },
  {
   "cell_type": "code",
   "execution_count": 2,
   "id": "2ac09db0",
   "metadata": {},
   "outputs": [],
   "source": [
    "path = r'C:\\Users\\Kamron\\Downloads\\Achievement 4'"
   ]
  },
  {
   "cell_type": "code",
   "execution_count": 3,
   "id": "2dda6235",
   "metadata": {},
   "outputs": [],
   "source": [
    "orders_products_merged = pd.read_pickle(os.path.join(path, '02 Data', 'Prepared Data', 'orders_products_merged.pkl'))"
   ]
  },
  {
   "cell_type": "markdown",
   "id": "adfe2a33",
   "metadata": {},
   "source": [
    "# Exercise 4.7"
   ]
  },
  {
   "cell_type": "code",
   "execution_count": 4,
   "id": "00e1b4e5",
   "metadata": {},
   "outputs": [
    {
     "data": {
      "text/html": [
       "<div>\n",
       "<style scoped>\n",
       "    .dataframe tbody tr th:only-of-type {\n",
       "        vertical-align: middle;\n",
       "    }\n",
       "\n",
       "    .dataframe tbody tr th {\n",
       "        vertical-align: top;\n",
       "    }\n",
       "\n",
       "    .dataframe thead th {\n",
       "        text-align: right;\n",
       "    }\n",
       "</style>\n",
       "<table border=\"1\" class=\"dataframe\">\n",
       "  <thead>\n",
       "    <tr style=\"text-align: right;\">\n",
       "      <th></th>\n",
       "      <th>order_id</th>\n",
       "      <th>user_id</th>\n",
       "      <th>eval_set</th>\n",
       "      <th>order_number</th>\n",
       "      <th>orders_day_of_week</th>\n",
       "      <th>order_hour_of_day</th>\n",
       "      <th>days_since_last_order</th>\n",
       "      <th>product_id</th>\n",
       "      <th>add_to_cart_order</th>\n",
       "      <th>reordered</th>\n",
       "      <th>product_name</th>\n",
       "      <th>aisle_id</th>\n",
       "      <th>department_id</th>\n",
       "      <th>prices</th>\n",
       "      <th>_merge</th>\n",
       "    </tr>\n",
       "  </thead>\n",
       "  <tbody>\n",
       "    <tr>\n",
       "      <th>0</th>\n",
       "      <td>2539329</td>\n",
       "      <td>1</td>\n",
       "      <td>prior</td>\n",
       "      <td>1</td>\n",
       "      <td>2</td>\n",
       "      <td>8</td>\n",
       "      <td>NaN</td>\n",
       "      <td>196</td>\n",
       "      <td>1</td>\n",
       "      <td>0</td>\n",
       "      <td>Soda</td>\n",
       "      <td>77</td>\n",
       "      <td>7</td>\n",
       "      <td>9.0</td>\n",
       "      <td>both</td>\n",
       "    </tr>\n",
       "    <tr>\n",
       "      <th>1</th>\n",
       "      <td>2398795</td>\n",
       "      <td>1</td>\n",
       "      <td>prior</td>\n",
       "      <td>2</td>\n",
       "      <td>3</td>\n",
       "      <td>7</td>\n",
       "      <td>15.0</td>\n",
       "      <td>196</td>\n",
       "      <td>1</td>\n",
       "      <td>1</td>\n",
       "      <td>Soda</td>\n",
       "      <td>77</td>\n",
       "      <td>7</td>\n",
       "      <td>9.0</td>\n",
       "      <td>both</td>\n",
       "    </tr>\n",
       "    <tr>\n",
       "      <th>2</th>\n",
       "      <td>473747</td>\n",
       "      <td>1</td>\n",
       "      <td>prior</td>\n",
       "      <td>3</td>\n",
       "      <td>3</td>\n",
       "      <td>12</td>\n",
       "      <td>21.0</td>\n",
       "      <td>196</td>\n",
       "      <td>1</td>\n",
       "      <td>1</td>\n",
       "      <td>Soda</td>\n",
       "      <td>77</td>\n",
       "      <td>7</td>\n",
       "      <td>9.0</td>\n",
       "      <td>both</td>\n",
       "    </tr>\n",
       "    <tr>\n",
       "      <th>3</th>\n",
       "      <td>2254736</td>\n",
       "      <td>1</td>\n",
       "      <td>prior</td>\n",
       "      <td>4</td>\n",
       "      <td>4</td>\n",
       "      <td>7</td>\n",
       "      <td>29.0</td>\n",
       "      <td>196</td>\n",
       "      <td>1</td>\n",
       "      <td>1</td>\n",
       "      <td>Soda</td>\n",
       "      <td>77</td>\n",
       "      <td>7</td>\n",
       "      <td>9.0</td>\n",
       "      <td>both</td>\n",
       "    </tr>\n",
       "    <tr>\n",
       "      <th>4</th>\n",
       "      <td>431534</td>\n",
       "      <td>1</td>\n",
       "      <td>prior</td>\n",
       "      <td>5</td>\n",
       "      <td>4</td>\n",
       "      <td>15</td>\n",
       "      <td>28.0</td>\n",
       "      <td>196</td>\n",
       "      <td>1</td>\n",
       "      <td>1</td>\n",
       "      <td>Soda</td>\n",
       "      <td>77</td>\n",
       "      <td>7</td>\n",
       "      <td>9.0</td>\n",
       "      <td>both</td>\n",
       "    </tr>\n",
       "  </tbody>\n",
       "</table>\n",
       "</div>"
      ],
      "text/plain": [
       "   order_id  user_id eval_set  order_number  orders_day_of_week  \\\n",
       "0   2539329        1    prior             1                   2   \n",
       "1   2398795        1    prior             2                   3   \n",
       "2    473747        1    prior             3                   3   \n",
       "3   2254736        1    prior             4                   4   \n",
       "4    431534        1    prior             5                   4   \n",
       "\n",
       "   order_hour_of_day  days_since_last_order  product_id  add_to_cart_order  \\\n",
       "0                  8                    NaN         196                  1   \n",
       "1                  7                   15.0         196                  1   \n",
       "2                 12                   21.0         196                  1   \n",
       "3                  7                   29.0         196                  1   \n",
       "4                 15                   28.0         196                  1   \n",
       "\n",
       "   reordered product_name  aisle_id  department_id  prices _merge  \n",
       "0          0         Soda        77              7     9.0   both  \n",
       "1          1         Soda        77              7     9.0   both  \n",
       "2          1         Soda        77              7     9.0   both  \n",
       "3          1         Soda        77              7     9.0   both  \n",
       "4          1         Soda        77              7     9.0   both  "
      ]
     },
     "execution_count": 4,
     "metadata": {},
     "output_type": "execute_result"
    }
   ],
   "source": [
    "orders_products_merged.head()"
   ]
  },
  {
   "cell_type": "code",
   "execution_count": 5,
   "id": "f0d54883",
   "metadata": {},
   "outputs": [],
   "source": [
    "# Creating subset\n",
    "\n",
    "df = orders_products_merged[:1000000]"
   ]
  },
  {
   "cell_type": "code",
   "execution_count": 6,
   "id": "b8392bb0",
   "metadata": {},
   "outputs": [
    {
     "data": {
      "text/plain": [
       "(1000000, 15)"
      ]
     },
     "execution_count": 6,
     "metadata": {},
     "output_type": "execute_result"
    }
   ],
   "source": [
    "df.shape"
   ]
  },
  {
   "cell_type": "markdown",
   "id": "1b8b335f",
   "metadata": {},
   "source": [
    "# If Statements"
   ]
  },
  {
   "cell_type": "code",
   "execution_count": 7,
   "id": "1397f4b3",
   "metadata": {},
   "outputs": [],
   "source": [
    "# defining function\n",
    "\n",
    "def price_label(row):\n",
    "    \n",
    "    if row['prices'] <= 5:\n",
    "        return 'Low-range product'\n",
    "    elif (row['prices'] > 5) and (row['prices'] <= 15):\n",
    "        return 'Mid-range product'\n",
    "    elif row['prices'] > 15:\n",
    "        return 'High range'\n",
    "    else: return 'Not enough data'"
   ]
  },
  {
   "cell_type": "code",
   "execution_count": 8,
   "id": "234f3436",
   "metadata": {},
   "outputs": [
    {
     "name": "stderr",
     "output_type": "stream",
     "text": [
      "C:\\Users\\Kamron\\AppData\\Local\\Temp\\ipykernel_18680\\2848743372.py:1: SettingWithCopyWarning: \n",
      "A value is trying to be set on a copy of a slice from a DataFrame.\n",
      "Try using .loc[row_indexer,col_indexer] = value instead\n",
      "\n",
      "See the caveats in the documentation: https://pandas.pydata.org/pandas-docs/stable/user_guide/indexing.html#returning-a-view-versus-a-copy\n",
      "  df['price_range'] = df.apply(price_label, axis=1)\n"
     ]
    }
   ],
   "source": [
    "df['price_range'] = df.apply(price_label, axis=1)"
   ]
  },
  {
   "cell_type": "code",
   "execution_count": 9,
   "id": "0dae2548",
   "metadata": {},
   "outputs": [
    {
     "data": {
      "text/plain": [
       "price_range\n",
       "Mid-range product    756450\n",
       "Low-range product    243550\n",
       "Name: count, dtype: int64"
      ]
     },
     "execution_count": 9,
     "metadata": {},
     "output_type": "execute_result"
    }
   ],
   "source": [
    "# Counting occurrences of unique values (includes missing values, if any)\n",
    "\n",
    "df['price_range'].value_counts(dropna = False)"
   ]
  },
  {
   "cell_type": "code",
   "execution_count": 10,
   "id": "35ce1282",
   "metadata": {},
   "outputs": [
    {
     "data": {
      "text/plain": [
       "14.8"
      ]
     },
     "execution_count": 10,
     "metadata": {},
     "output_type": "execute_result"
    }
   ],
   "source": [
    "# checking max value within the 'prices' column (in subset)\n",
    "\n",
    "df['prices'].max()"
   ]
  },
  {
   "cell_type": "markdown",
   "id": "841f8057",
   "metadata": {},
   "source": [
    "# If Statements with For loops"
   ]
  },
  {
   "cell_type": "code",
   "execution_count": 12,
   "id": "a4a3474f",
   "metadata": {},
   "outputs": [
    {
     "data": {
      "text/plain": [
       "orders_day_of_week\n",
       "0    6209632\n",
       "1    5665830\n",
       "6    4500246\n",
       "2    4217766\n",
       "5    4209449\n",
       "3    3844096\n",
       "4    3787193\n",
       "Name: count, dtype: int64"
      ]
     },
     "execution_count": 12,
     "metadata": {},
     "output_type": "execute_result"
    }
   ],
   "source": [
    "# number of orders per day\n",
    "orders_products_merged['orders_day_of_week'].value_counts(dropna = False)"
   ]
  },
  {
   "cell_type": "code",
   "execution_count": 13,
   "id": "15fbe98b",
   "metadata": {},
   "outputs": [],
   "source": [
    "# creating container\n",
    "\n",
    "result = []"
   ]
  },
  {
   "cell_type": "code",
   "execution_count": 21,
   "id": "dec9c029",
   "metadata": {},
   "outputs": [],
   "source": [
    "# Adding elements\n",
    "\n",
    "for value in orders_products_merged['orders_day_of_week']:\n",
    "    if value == 0:\n",
    "        result.append('Busiest day')\n",
    "    elif value == 4:\n",
    "        result.append('Least busy')\n",
    "    else:\n",
    "        result.append('Regularly busy')"
   ]
  },
  {
   "cell_type": "code",
   "execution_count": 16,
   "id": "18a3972a",
   "metadata": {},
   "outputs": [],
   "source": [
    "orders_products_merged['busiest_day'] = result"
   ]
  },
  {
   "cell_type": "code",
   "execution_count": 17,
   "id": "61e23e62",
   "metadata": {},
   "outputs": [
    {
     "data": {
      "text/plain": [
       "busiest_day\n",
       "Regular busy    22437387\n",
       "Busiest day      6209632\n",
       "Least busy       3787193\n",
       "Name: count, dtype: int64"
      ]
     },
     "execution_count": 17,
     "metadata": {},
     "output_type": "execute_result"
    }
   ],
   "source": [
    "orders_products_merged['busiest_day'].value_counts(dropna = False)"
   ]
  },
  {
   "cell_type": "code",
   "execution_count": 18,
   "id": "bcd64bc0",
   "metadata": {},
   "outputs": [],
   "source": [
    "# Question 2"
   ]
  },
  {
   "cell_type": "code",
   "execution_count": 19,
   "id": "c8089952",
   "metadata": {},
   "outputs": [
    {
     "data": {
      "text/plain": [
       "orders_day_of_week\n",
       "0    6209632\n",
       "1    5665830\n",
       "6    4500246\n",
       "2    4217766\n",
       "5    4209449\n",
       "3    3844096\n",
       "4    3787193\n",
       "Name: count, dtype: int64"
      ]
     },
     "execution_count": 19,
     "metadata": {},
     "output_type": "execute_result"
    }
   ],
   "source": [
    "# Counting number of orders per day\n",
    "\n",
    "orders_products_merged['orders_day_of_week'].value_counts(dropna = False)"
   ]
  },
  {
   "cell_type": "code",
   "execution_count": 20,
   "id": "a651a782",
   "metadata": {},
   "outputs": [],
   "source": [
    "# Creating empty shell\n",
    "\n",
    "result2 = []"
   ]
  },
  {
   "cell_type": "code",
   "execution_count": 22,
   "id": "8fe6550e",
   "metadata": {},
   "outputs": [],
   "source": [
    "# Adding new labels\n",
    "\n",
    "for value in orders_products_merged['orders_day_of_week']:\n",
    "    if value == 0 or value == 1:\n",
    "        result2.append('Busiest days')\n",
    "    elif value == 4 or value == 3:\n",
    "        result2.append('Slowest days')\n",
    "    else:\n",
    "        result2.append('Regularly days')"
   ]
  },
  {
   "cell_type": "code",
   "execution_count": 29,
   "id": "3577cde7",
   "metadata": {},
   "outputs": [],
   "source": [
    "# Creating new column 'busiest_days'\n",
    "\n",
    "orders_products_merged['busiest_days'] = result2"
   ]
  },
  {
   "cell_type": "code",
   "execution_count": 30,
   "id": "9e4b1110",
   "metadata": {},
   "outputs": [
    {
     "data": {
      "text/html": [
       "<div>\n",
       "<style scoped>\n",
       "    .dataframe tbody tr th:only-of-type {\n",
       "        vertical-align: middle;\n",
       "    }\n",
       "\n",
       "    .dataframe tbody tr th {\n",
       "        vertical-align: top;\n",
       "    }\n",
       "\n",
       "    .dataframe thead th {\n",
       "        text-align: right;\n",
       "    }\n",
       "</style>\n",
       "<table border=\"1\" class=\"dataframe\">\n",
       "  <thead>\n",
       "    <tr style=\"text-align: right;\">\n",
       "      <th></th>\n",
       "      <th>order_id</th>\n",
       "      <th>user_id</th>\n",
       "      <th>eval_set</th>\n",
       "      <th>order_number</th>\n",
       "      <th>orders_day_of_week</th>\n",
       "      <th>order_hour_of_day</th>\n",
       "      <th>days_since_last_order</th>\n",
       "      <th>product_id</th>\n",
       "      <th>add_to_cart_order</th>\n",
       "      <th>reordered</th>\n",
       "      <th>product_name</th>\n",
       "      <th>aisle_id</th>\n",
       "      <th>department_id</th>\n",
       "      <th>prices</th>\n",
       "      <th>_merge</th>\n",
       "      <th>busiest_day</th>\n",
       "      <th>Busiest_days</th>\n",
       "      <th>busiest_days</th>\n",
       "    </tr>\n",
       "  </thead>\n",
       "  <tbody>\n",
       "    <tr>\n",
       "      <th>0</th>\n",
       "      <td>2539329</td>\n",
       "      <td>1</td>\n",
       "      <td>prior</td>\n",
       "      <td>1</td>\n",
       "      <td>2</td>\n",
       "      <td>8</td>\n",
       "      <td>NaN</td>\n",
       "      <td>196</td>\n",
       "      <td>1</td>\n",
       "      <td>0</td>\n",
       "      <td>Soda</td>\n",
       "      <td>77</td>\n",
       "      <td>7</td>\n",
       "      <td>9.0</td>\n",
       "      <td>both</td>\n",
       "      <td>Regular busy</td>\n",
       "      <td>Regularly days</td>\n",
       "      <td>Regularly days</td>\n",
       "    </tr>\n",
       "    <tr>\n",
       "      <th>1</th>\n",
       "      <td>2398795</td>\n",
       "      <td>1</td>\n",
       "      <td>prior</td>\n",
       "      <td>2</td>\n",
       "      <td>3</td>\n",
       "      <td>7</td>\n",
       "      <td>15.0</td>\n",
       "      <td>196</td>\n",
       "      <td>1</td>\n",
       "      <td>1</td>\n",
       "      <td>Soda</td>\n",
       "      <td>77</td>\n",
       "      <td>7</td>\n",
       "      <td>9.0</td>\n",
       "      <td>both</td>\n",
       "      <td>Regular busy</td>\n",
       "      <td>Slowest days</td>\n",
       "      <td>Slowest days</td>\n",
       "    </tr>\n",
       "    <tr>\n",
       "      <th>2</th>\n",
       "      <td>473747</td>\n",
       "      <td>1</td>\n",
       "      <td>prior</td>\n",
       "      <td>3</td>\n",
       "      <td>3</td>\n",
       "      <td>12</td>\n",
       "      <td>21.0</td>\n",
       "      <td>196</td>\n",
       "      <td>1</td>\n",
       "      <td>1</td>\n",
       "      <td>Soda</td>\n",
       "      <td>77</td>\n",
       "      <td>7</td>\n",
       "      <td>9.0</td>\n",
       "      <td>both</td>\n",
       "      <td>Regular busy</td>\n",
       "      <td>Slowest days</td>\n",
       "      <td>Slowest days</td>\n",
       "    </tr>\n",
       "    <tr>\n",
       "      <th>3</th>\n",
       "      <td>2254736</td>\n",
       "      <td>1</td>\n",
       "      <td>prior</td>\n",
       "      <td>4</td>\n",
       "      <td>4</td>\n",
       "      <td>7</td>\n",
       "      <td>29.0</td>\n",
       "      <td>196</td>\n",
       "      <td>1</td>\n",
       "      <td>1</td>\n",
       "      <td>Soda</td>\n",
       "      <td>77</td>\n",
       "      <td>7</td>\n",
       "      <td>9.0</td>\n",
       "      <td>both</td>\n",
       "      <td>Least busy</td>\n",
       "      <td>Slowest days</td>\n",
       "      <td>Slowest days</td>\n",
       "    </tr>\n",
       "    <tr>\n",
       "      <th>4</th>\n",
       "      <td>431534</td>\n",
       "      <td>1</td>\n",
       "      <td>prior</td>\n",
       "      <td>5</td>\n",
       "      <td>4</td>\n",
       "      <td>15</td>\n",
       "      <td>28.0</td>\n",
       "      <td>196</td>\n",
       "      <td>1</td>\n",
       "      <td>1</td>\n",
       "      <td>Soda</td>\n",
       "      <td>77</td>\n",
       "      <td>7</td>\n",
       "      <td>9.0</td>\n",
       "      <td>both</td>\n",
       "      <td>Least busy</td>\n",
       "      <td>Slowest days</td>\n",
       "      <td>Slowest days</td>\n",
       "    </tr>\n",
       "  </tbody>\n",
       "</table>\n",
       "</div>"
      ],
      "text/plain": [
       "   order_id  user_id eval_set  order_number  orders_day_of_week  \\\n",
       "0   2539329        1    prior             1                   2   \n",
       "1   2398795        1    prior             2                   3   \n",
       "2    473747        1    prior             3                   3   \n",
       "3   2254736        1    prior             4                   4   \n",
       "4    431534        1    prior             5                   4   \n",
       "\n",
       "   order_hour_of_day  days_since_last_order  product_id  add_to_cart_order  \\\n",
       "0                  8                    NaN         196                  1   \n",
       "1                  7                   15.0         196                  1   \n",
       "2                 12                   21.0         196                  1   \n",
       "3                  7                   29.0         196                  1   \n",
       "4                 15                   28.0         196                  1   \n",
       "\n",
       "   reordered product_name  aisle_id  department_id  prices _merge  \\\n",
       "0          0         Soda        77              7     9.0   both   \n",
       "1          1         Soda        77              7     9.0   both   \n",
       "2          1         Soda        77              7     9.0   both   \n",
       "3          1         Soda        77              7     9.0   both   \n",
       "4          1         Soda        77              7     9.0   both   \n",
       "\n",
       "    busiest_day    Busiest_days    busiest_days  \n",
       "0  Regular busy  Regularly days  Regularly days  \n",
       "1  Regular busy    Slowest days    Slowest days  \n",
       "2  Regular busy    Slowest days    Slowest days  \n",
       "3    Least busy    Slowest days    Slowest days  \n",
       "4    Least busy    Slowest days    Slowest days  "
      ]
     },
     "execution_count": 30,
     "metadata": {},
     "output_type": "execute_result"
    }
   ],
   "source": [
    "# Check\n",
    "orders_products_merged.head()"
   ]
  },
  {
   "cell_type": "code",
   "execution_count": 25,
   "id": "63e6460f",
   "metadata": {},
   "outputs": [],
   "source": [
    "# Question 3"
   ]
  },
  {
   "cell_type": "code",
   "execution_count": 31,
   "id": "46de8655",
   "metadata": {},
   "outputs": [
    {
     "data": {
      "text/plain": [
       "busiest_days\n",
       "Regularly days    12927461\n",
       "Busiest days      11875462\n",
       "Slowest days       7631289\n",
       "Name: count, dtype: int64"
      ]
     },
     "execution_count": 31,
     "metadata": {},
     "output_type": "execute_result"
    }
   ],
   "source": [
    "orders_products_merged['busiest_days'].value_counts(dropna = False)"
   ]
  },
  {
   "cell_type": "code",
   "execution_count": 32,
   "id": "dac066c9",
   "metadata": {},
   "outputs": [
    {
     "data": {
      "text/html": [
       "<div>\n",
       "<style scoped>\n",
       "    .dataframe tbody tr th:only-of-type {\n",
       "        vertical-align: middle;\n",
       "    }\n",
       "\n",
       "    .dataframe tbody tr th {\n",
       "        vertical-align: top;\n",
       "    }\n",
       "\n",
       "    .dataframe thead th {\n",
       "        text-align: right;\n",
       "    }\n",
       "</style>\n",
       "<table border=\"1\" class=\"dataframe\">\n",
       "  <thead>\n",
       "    <tr style=\"text-align: right;\">\n",
       "      <th></th>\n",
       "      <th>order_id</th>\n",
       "      <th>user_id</th>\n",
       "      <th>eval_set</th>\n",
       "      <th>order_number</th>\n",
       "      <th>orders_day_of_week</th>\n",
       "      <th>order_hour_of_day</th>\n",
       "      <th>days_since_last_order</th>\n",
       "      <th>product_id</th>\n",
       "      <th>add_to_cart_order</th>\n",
       "      <th>reordered</th>\n",
       "      <th>product_name</th>\n",
       "      <th>aisle_id</th>\n",
       "      <th>department_id</th>\n",
       "      <th>prices</th>\n",
       "      <th>_merge</th>\n",
       "      <th>busiest_day</th>\n",
       "      <th>Busiest_days</th>\n",
       "      <th>busiest_days</th>\n",
       "    </tr>\n",
       "  </thead>\n",
       "  <tbody>\n",
       "    <tr>\n",
       "      <th>0</th>\n",
       "      <td>2539329</td>\n",
       "      <td>1</td>\n",
       "      <td>prior</td>\n",
       "      <td>1</td>\n",
       "      <td>2</td>\n",
       "      <td>8</td>\n",
       "      <td>NaN</td>\n",
       "      <td>196</td>\n",
       "      <td>1</td>\n",
       "      <td>0</td>\n",
       "      <td>Soda</td>\n",
       "      <td>77</td>\n",
       "      <td>7</td>\n",
       "      <td>9.0</td>\n",
       "      <td>both</td>\n",
       "      <td>Regular busy</td>\n",
       "      <td>Regularly days</td>\n",
       "      <td>Regularly days</td>\n",
       "    </tr>\n",
       "    <tr>\n",
       "      <th>1</th>\n",
       "      <td>2398795</td>\n",
       "      <td>1</td>\n",
       "      <td>prior</td>\n",
       "      <td>2</td>\n",
       "      <td>3</td>\n",
       "      <td>7</td>\n",
       "      <td>15.0</td>\n",
       "      <td>196</td>\n",
       "      <td>1</td>\n",
       "      <td>1</td>\n",
       "      <td>Soda</td>\n",
       "      <td>77</td>\n",
       "      <td>7</td>\n",
       "      <td>9.0</td>\n",
       "      <td>both</td>\n",
       "      <td>Regular busy</td>\n",
       "      <td>Slowest days</td>\n",
       "      <td>Slowest days</td>\n",
       "    </tr>\n",
       "    <tr>\n",
       "      <th>2</th>\n",
       "      <td>473747</td>\n",
       "      <td>1</td>\n",
       "      <td>prior</td>\n",
       "      <td>3</td>\n",
       "      <td>3</td>\n",
       "      <td>12</td>\n",
       "      <td>21.0</td>\n",
       "      <td>196</td>\n",
       "      <td>1</td>\n",
       "      <td>1</td>\n",
       "      <td>Soda</td>\n",
       "      <td>77</td>\n",
       "      <td>7</td>\n",
       "      <td>9.0</td>\n",
       "      <td>both</td>\n",
       "      <td>Regular busy</td>\n",
       "      <td>Slowest days</td>\n",
       "      <td>Slowest days</td>\n",
       "    </tr>\n",
       "    <tr>\n",
       "      <th>3</th>\n",
       "      <td>2254736</td>\n",
       "      <td>1</td>\n",
       "      <td>prior</td>\n",
       "      <td>4</td>\n",
       "      <td>4</td>\n",
       "      <td>7</td>\n",
       "      <td>29.0</td>\n",
       "      <td>196</td>\n",
       "      <td>1</td>\n",
       "      <td>1</td>\n",
       "      <td>Soda</td>\n",
       "      <td>77</td>\n",
       "      <td>7</td>\n",
       "      <td>9.0</td>\n",
       "      <td>both</td>\n",
       "      <td>Least busy</td>\n",
       "      <td>Slowest days</td>\n",
       "      <td>Slowest days</td>\n",
       "    </tr>\n",
       "    <tr>\n",
       "      <th>4</th>\n",
       "      <td>431534</td>\n",
       "      <td>1</td>\n",
       "      <td>prior</td>\n",
       "      <td>5</td>\n",
       "      <td>4</td>\n",
       "      <td>15</td>\n",
       "      <td>28.0</td>\n",
       "      <td>196</td>\n",
       "      <td>1</td>\n",
       "      <td>1</td>\n",
       "      <td>Soda</td>\n",
       "      <td>77</td>\n",
       "      <td>7</td>\n",
       "      <td>9.0</td>\n",
       "      <td>both</td>\n",
       "      <td>Least busy</td>\n",
       "      <td>Slowest days</td>\n",
       "      <td>Slowest days</td>\n",
       "    </tr>\n",
       "  </tbody>\n",
       "</table>\n",
       "</div>"
      ],
      "text/plain": [
       "   order_id  user_id eval_set  order_number  orders_day_of_week  \\\n",
       "0   2539329        1    prior             1                   2   \n",
       "1   2398795        1    prior             2                   3   \n",
       "2    473747        1    prior             3                   3   \n",
       "3   2254736        1    prior             4                   4   \n",
       "4    431534        1    prior             5                   4   \n",
       "\n",
       "   order_hour_of_day  days_since_last_order  product_id  add_to_cart_order  \\\n",
       "0                  8                    NaN         196                  1   \n",
       "1                  7                   15.0         196                  1   \n",
       "2                 12                   21.0         196                  1   \n",
       "3                  7                   29.0         196                  1   \n",
       "4                 15                   28.0         196                  1   \n",
       "\n",
       "   reordered product_name  aisle_id  department_id  prices _merge  \\\n",
       "0          0         Soda        77              7     9.0   both   \n",
       "1          1         Soda        77              7     9.0   both   \n",
       "2          1         Soda        77              7     9.0   both   \n",
       "3          1         Soda        77              7     9.0   both   \n",
       "4          1         Soda        77              7     9.0   both   \n",
       "\n",
       "    busiest_day    Busiest_days    busiest_days  \n",
       "0  Regular busy  Regularly days  Regularly days  \n",
       "1  Regular busy    Slowest days    Slowest days  \n",
       "2  Regular busy    Slowest days    Slowest days  \n",
       "3    Least busy    Slowest days    Slowest days  \n",
       "4    Least busy    Slowest days    Slowest days  "
      ]
     },
     "execution_count": 32,
     "metadata": {},
     "output_type": "execute_result"
    }
   ],
   "source": [
    "# Question 4\n",
    "\n",
    "# checking columns\n",
    "\n",
    "orders_products_merged.head()"
   ]
  },
  {
   "cell_type": "code",
   "execution_count": 33,
   "id": "3cef67b1",
   "metadata": {},
   "outputs": [],
   "source": [
    "# Creating dataframe with counts of orders per hour\n",
    "\n",
    "counts = orders_products_merged['order_hour_of_day'].value_counts().rename_axis('hour').reset_index(name = 'counts')"
   ]
  },
  {
   "cell_type": "code",
   "execution_count": 34,
   "id": "1a3a5dd8",
   "metadata": {},
   "outputs": [
    {
     "data": {
      "text/html": [
       "<div>\n",
       "<style scoped>\n",
       "    .dataframe tbody tr th:only-of-type {\n",
       "        vertical-align: middle;\n",
       "    }\n",
       "\n",
       "    .dataframe tbody tr th {\n",
       "        vertical-align: top;\n",
       "    }\n",
       "\n",
       "    .dataframe thead th {\n",
       "        text-align: right;\n",
       "    }\n",
       "</style>\n",
       "<table border=\"1\" class=\"dataframe\">\n",
       "  <thead>\n",
       "    <tr style=\"text-align: right;\">\n",
       "      <th></th>\n",
       "      <th>hour</th>\n",
       "      <th>counts</th>\n",
       "    </tr>\n",
       "  </thead>\n",
       "  <tbody>\n",
       "    <tr>\n",
       "      <th>0</th>\n",
       "      <td>10</td>\n",
       "      <td>2764390</td>\n",
       "    </tr>\n",
       "    <tr>\n",
       "      <th>1</th>\n",
       "      <td>11</td>\n",
       "      <td>2738585</td>\n",
       "    </tr>\n",
       "    <tr>\n",
       "      <th>2</th>\n",
       "      <td>14</td>\n",
       "      <td>2691563</td>\n",
       "    </tr>\n",
       "    <tr>\n",
       "      <th>3</th>\n",
       "      <td>15</td>\n",
       "      <td>2664522</td>\n",
       "    </tr>\n",
       "    <tr>\n",
       "      <th>4</th>\n",
       "      <td>13</td>\n",
       "      <td>2663272</td>\n",
       "    </tr>\n",
       "    <tr>\n",
       "      <th>5</th>\n",
       "      <td>12</td>\n",
       "      <td>2620800</td>\n",
       "    </tr>\n",
       "    <tr>\n",
       "      <th>6</th>\n",
       "      <td>16</td>\n",
       "      <td>2537469</td>\n",
       "    </tr>\n",
       "    <tr>\n",
       "      <th>7</th>\n",
       "      <td>9</td>\n",
       "      <td>2456661</td>\n",
       "    </tr>\n",
       "    <tr>\n",
       "      <th>8</th>\n",
       "      <td>17</td>\n",
       "      <td>2089452</td>\n",
       "    </tr>\n",
       "    <tr>\n",
       "      <th>9</th>\n",
       "      <td>8</td>\n",
       "      <td>1719952</td>\n",
       "    </tr>\n",
       "    <tr>\n",
       "      <th>10</th>\n",
       "      <td>18</td>\n",
       "      <td>1637922</td>\n",
       "    </tr>\n",
       "    <tr>\n",
       "      <th>11</th>\n",
       "      <td>19</td>\n",
       "      <td>1259382</td>\n",
       "    </tr>\n",
       "    <tr>\n",
       "      <th>12</th>\n",
       "      <td>20</td>\n",
       "      <td>977017</td>\n",
       "    </tr>\n",
       "    <tr>\n",
       "      <th>13</th>\n",
       "      <td>7</td>\n",
       "      <td>891928</td>\n",
       "    </tr>\n",
       "    <tr>\n",
       "      <th>14</th>\n",
       "      <td>21</td>\n",
       "      <td>796362</td>\n",
       "    </tr>\n",
       "    <tr>\n",
       "      <th>15</th>\n",
       "      <td>22</td>\n",
       "      <td>634737</td>\n",
       "    </tr>\n",
       "    <tr>\n",
       "      <th>16</th>\n",
       "      <td>23</td>\n",
       "      <td>402612</td>\n",
       "    </tr>\n",
       "    <tr>\n",
       "      <th>17</th>\n",
       "      <td>6</td>\n",
       "      <td>290770</td>\n",
       "    </tr>\n",
       "    <tr>\n",
       "      <th>18</th>\n",
       "      <td>0</td>\n",
       "      <td>218942</td>\n",
       "    </tr>\n",
       "    <tr>\n",
       "      <th>19</th>\n",
       "      <td>1</td>\n",
       "      <td>115786</td>\n",
       "    </tr>\n",
       "    <tr>\n",
       "      <th>20</th>\n",
       "      <td>5</td>\n",
       "      <td>88057</td>\n",
       "    </tr>\n",
       "    <tr>\n",
       "      <th>21</th>\n",
       "      <td>2</td>\n",
       "      <td>69431</td>\n",
       "    </tr>\n",
       "    <tr>\n",
       "      <th>22</th>\n",
       "      <td>4</td>\n",
       "      <td>53283</td>\n",
       "    </tr>\n",
       "    <tr>\n",
       "      <th>23</th>\n",
       "      <td>3</td>\n",
       "      <td>51317</td>\n",
       "    </tr>\n",
       "  </tbody>\n",
       "</table>\n",
       "</div>"
      ],
      "text/plain": [
       "    hour   counts\n",
       "0     10  2764390\n",
       "1     11  2738585\n",
       "2     14  2691563\n",
       "3     15  2664522\n",
       "4     13  2663272\n",
       "5     12  2620800\n",
       "6     16  2537469\n",
       "7      9  2456661\n",
       "8     17  2089452\n",
       "9      8  1719952\n",
       "10    18  1637922\n",
       "11    19  1259382\n",
       "12    20   977017\n",
       "13     7   891928\n",
       "14    21   796362\n",
       "15    22   634737\n",
       "16    23   402612\n",
       "17     6   290770\n",
       "18     0   218942\n",
       "19     1   115786\n",
       "20     5    88057\n",
       "21     2    69431\n",
       "22     4    53283\n",
       "23     3    51317"
      ]
     },
     "execution_count": 34,
     "metadata": {},
     "output_type": "execute_result"
    }
   ],
   "source": [
    "counts"
   ]
  },
  {
   "cell_type": "code",
   "execution_count": 35,
   "id": "ac582684",
   "metadata": {},
   "outputs": [],
   "source": [
    "# Creating list showing the percentiles for the value counts of the column 'order_hour_of_day'\n",
    "\n",
    "orders = list(orders_products_merged['order_hour_of_day'].value_counts().quantile([0.25, 0.5, 0.75]))"
   ]
  },
  {
   "cell_type": "code",
   "execution_count": 36,
   "id": "8f096a2a",
   "metadata": {},
   "outputs": [
    {
     "data": {
      "text/plain": [
       "[272813.0, 1118199.5, 2558301.75]"
      ]
     },
     "execution_count": 36,
     "metadata": {},
     "output_type": "execute_result"
    }
   ],
   "source": [
    "orders"
   ]
  },
  {
   "cell_type": "markdown",
   "id": "a9371dcf",
   "metadata": {},
   "source": [
    "### Creating lists"
   ]
  },
  {
   "cell_type": "code",
   "execution_count": 37,
   "id": "d9951e29",
   "metadata": {},
   "outputs": [],
   "source": [
    "few = list(counts.loc[counts['counts'] <= orders[0]]['hour'])"
   ]
  },
  {
   "cell_type": "code",
   "execution_count": 38,
   "id": "fbcabacd",
   "metadata": {},
   "outputs": [],
   "source": [
    "average = list(counts[(counts['counts'] > orders[0]) & (counts['counts'] < orders[2])]['hour'])"
   ]
  },
  {
   "cell_type": "code",
   "execution_count": 39,
   "id": "8cf85a2c",
   "metadata": {},
   "outputs": [],
   "source": [
    "most = list(counts.loc[counts['counts'] >= orders[2]]['hour'])"
   ]
  },
  {
   "cell_type": "markdown",
   "id": "2b7b27a0",
   "metadata": {},
   "source": [
    "### Creating indexes"
   ]
  },
  {
   "cell_type": "code",
   "execution_count": 40,
   "id": "953bc153",
   "metadata": {},
   "outputs": [],
   "source": [
    "index_few = orders_products_merged['order_hour_of_day'].isin(few)"
   ]
  },
  {
   "cell_type": "code",
   "execution_count": 41,
   "id": "de3c8693",
   "metadata": {},
   "outputs": [],
   "source": [
    "index_average = orders_products_merged['order_hour_of_day'].isin(average)"
   ]
  },
  {
   "cell_type": "code",
   "execution_count": 42,
   "id": "21d12165",
   "metadata": {},
   "outputs": [],
   "source": [
    "index_most = orders_products_merged['order_hour_of_day'].isin(most)"
   ]
  },
  {
   "cell_type": "markdown",
   "id": "eac407fe",
   "metadata": {},
   "source": [
    "### Creating new column with labels"
   ]
  },
  {
   "cell_type": "code",
   "execution_count": 43,
   "id": "c4251f48",
   "metadata": {},
   "outputs": [],
   "source": [
    "orders_products_merged.loc[index_few,'busiest_period_of_day'] = 'Fewest orders'"
   ]
  },
  {
   "cell_type": "code",
   "execution_count": 44,
   "id": "70c5395e",
   "metadata": {},
   "outputs": [],
   "source": [
    "orders_products_merged.loc[index_average,'busiest_period_of_day'] = 'Average orders'"
   ]
  },
  {
   "cell_type": "code",
   "execution_count": 45,
   "id": "f530f1e5",
   "metadata": {},
   "outputs": [],
   "source": [
    "orders_products_merged.loc[index_most,'busiest_period_of_day'] = 'Most orders'"
   ]
  },
  {
   "cell_type": "code",
   "execution_count": 46,
   "id": "10508b06",
   "metadata": {},
   "outputs": [
    {
     "data": {
      "text/html": [
       "<div>\n",
       "<style scoped>\n",
       "    .dataframe tbody tr th:only-of-type {\n",
       "        vertical-align: middle;\n",
       "    }\n",
       "\n",
       "    .dataframe tbody tr th {\n",
       "        vertical-align: top;\n",
       "    }\n",
       "\n",
       "    .dataframe thead th {\n",
       "        text-align: right;\n",
       "    }\n",
       "</style>\n",
       "<table border=\"1\" class=\"dataframe\">\n",
       "  <thead>\n",
       "    <tr style=\"text-align: right;\">\n",
       "      <th></th>\n",
       "      <th>order_id</th>\n",
       "      <th>user_id</th>\n",
       "      <th>eval_set</th>\n",
       "      <th>order_number</th>\n",
       "      <th>orders_day_of_week</th>\n",
       "      <th>order_hour_of_day</th>\n",
       "      <th>days_since_last_order</th>\n",
       "      <th>product_id</th>\n",
       "      <th>add_to_cart_order</th>\n",
       "      <th>reordered</th>\n",
       "      <th>product_name</th>\n",
       "      <th>aisle_id</th>\n",
       "      <th>department_id</th>\n",
       "      <th>prices</th>\n",
       "      <th>_merge</th>\n",
       "      <th>busiest_day</th>\n",
       "      <th>Busiest_days</th>\n",
       "      <th>busiest_days</th>\n",
       "      <th>busiest_period_of_day</th>\n",
       "    </tr>\n",
       "  </thead>\n",
       "  <tbody>\n",
       "    <tr>\n",
       "      <th>0</th>\n",
       "      <td>2539329</td>\n",
       "      <td>1</td>\n",
       "      <td>prior</td>\n",
       "      <td>1</td>\n",
       "      <td>2</td>\n",
       "      <td>8</td>\n",
       "      <td>NaN</td>\n",
       "      <td>196</td>\n",
       "      <td>1</td>\n",
       "      <td>0</td>\n",
       "      <td>Soda</td>\n",
       "      <td>77</td>\n",
       "      <td>7</td>\n",
       "      <td>9.0</td>\n",
       "      <td>both</td>\n",
       "      <td>Regular busy</td>\n",
       "      <td>Regularly days</td>\n",
       "      <td>Regularly days</td>\n",
       "      <td>Average orders</td>\n",
       "    </tr>\n",
       "    <tr>\n",
       "      <th>1</th>\n",
       "      <td>2398795</td>\n",
       "      <td>1</td>\n",
       "      <td>prior</td>\n",
       "      <td>2</td>\n",
       "      <td>3</td>\n",
       "      <td>7</td>\n",
       "      <td>15.0</td>\n",
       "      <td>196</td>\n",
       "      <td>1</td>\n",
       "      <td>1</td>\n",
       "      <td>Soda</td>\n",
       "      <td>77</td>\n",
       "      <td>7</td>\n",
       "      <td>9.0</td>\n",
       "      <td>both</td>\n",
       "      <td>Regular busy</td>\n",
       "      <td>Slowest days</td>\n",
       "      <td>Slowest days</td>\n",
       "      <td>Average orders</td>\n",
       "    </tr>\n",
       "    <tr>\n",
       "      <th>2</th>\n",
       "      <td>473747</td>\n",
       "      <td>1</td>\n",
       "      <td>prior</td>\n",
       "      <td>3</td>\n",
       "      <td>3</td>\n",
       "      <td>12</td>\n",
       "      <td>21.0</td>\n",
       "      <td>196</td>\n",
       "      <td>1</td>\n",
       "      <td>1</td>\n",
       "      <td>Soda</td>\n",
       "      <td>77</td>\n",
       "      <td>7</td>\n",
       "      <td>9.0</td>\n",
       "      <td>both</td>\n",
       "      <td>Regular busy</td>\n",
       "      <td>Slowest days</td>\n",
       "      <td>Slowest days</td>\n",
       "      <td>Most orders</td>\n",
       "    </tr>\n",
       "    <tr>\n",
       "      <th>3</th>\n",
       "      <td>2254736</td>\n",
       "      <td>1</td>\n",
       "      <td>prior</td>\n",
       "      <td>4</td>\n",
       "      <td>4</td>\n",
       "      <td>7</td>\n",
       "      <td>29.0</td>\n",
       "      <td>196</td>\n",
       "      <td>1</td>\n",
       "      <td>1</td>\n",
       "      <td>Soda</td>\n",
       "      <td>77</td>\n",
       "      <td>7</td>\n",
       "      <td>9.0</td>\n",
       "      <td>both</td>\n",
       "      <td>Least busy</td>\n",
       "      <td>Slowest days</td>\n",
       "      <td>Slowest days</td>\n",
       "      <td>Average orders</td>\n",
       "    </tr>\n",
       "    <tr>\n",
       "      <th>4</th>\n",
       "      <td>431534</td>\n",
       "      <td>1</td>\n",
       "      <td>prior</td>\n",
       "      <td>5</td>\n",
       "      <td>4</td>\n",
       "      <td>15</td>\n",
       "      <td>28.0</td>\n",
       "      <td>196</td>\n",
       "      <td>1</td>\n",
       "      <td>1</td>\n",
       "      <td>Soda</td>\n",
       "      <td>77</td>\n",
       "      <td>7</td>\n",
       "      <td>9.0</td>\n",
       "      <td>both</td>\n",
       "      <td>Least busy</td>\n",
       "      <td>Slowest days</td>\n",
       "      <td>Slowest days</td>\n",
       "      <td>Most orders</td>\n",
       "    </tr>\n",
       "  </tbody>\n",
       "</table>\n",
       "</div>"
      ],
      "text/plain": [
       "   order_id  user_id eval_set  order_number  orders_day_of_week  \\\n",
       "0   2539329        1    prior             1                   2   \n",
       "1   2398795        1    prior             2                   3   \n",
       "2    473747        1    prior             3                   3   \n",
       "3   2254736        1    prior             4                   4   \n",
       "4    431534        1    prior             5                   4   \n",
       "\n",
       "   order_hour_of_day  days_since_last_order  product_id  add_to_cart_order  \\\n",
       "0                  8                    NaN         196                  1   \n",
       "1                  7                   15.0         196                  1   \n",
       "2                 12                   21.0         196                  1   \n",
       "3                  7                   29.0         196                  1   \n",
       "4                 15                   28.0         196                  1   \n",
       "\n",
       "   reordered product_name  aisle_id  department_id  prices _merge  \\\n",
       "0          0         Soda        77              7     9.0   both   \n",
       "1          1         Soda        77              7     9.0   both   \n",
       "2          1         Soda        77              7     9.0   both   \n",
       "3          1         Soda        77              7     9.0   both   \n",
       "4          1         Soda        77              7     9.0   both   \n",
       "\n",
       "    busiest_day    Busiest_days    busiest_days busiest_period_of_day  \n",
       "0  Regular busy  Regularly days  Regularly days        Average orders  \n",
       "1  Regular busy    Slowest days    Slowest days        Average orders  \n",
       "2  Regular busy    Slowest days    Slowest days           Most orders  \n",
       "3    Least busy    Slowest days    Slowest days        Average orders  \n",
       "4    Least busy    Slowest days    Slowest days           Most orders  "
      ]
     },
     "execution_count": 46,
     "metadata": {},
     "output_type": "execute_result"
    }
   ],
   "source": [
    "# check 1\n",
    "orders_products_merged.head()"
   ]
  },
  {
   "cell_type": "code",
   "execution_count": 48,
   "id": "b2ec8349",
   "metadata": {},
   "outputs": [
    {
     "data": {
      "text/plain": [
       "(32434212, 19)"
      ]
     },
     "execution_count": 48,
     "metadata": {},
     "output_type": "execute_result"
    }
   ],
   "source": [
    "# Check 2\n",
    "\n",
    "orders_products_merged.shape"
   ]
  },
  {
   "cell_type": "code",
   "execution_count": 49,
   "id": "e3a58df4",
   "metadata": {},
   "outputs": [],
   "source": [
    "# Question 5"
   ]
  },
  {
   "cell_type": "code",
   "execution_count": 50,
   "id": "3cfe3d8d",
   "metadata": {},
   "outputs": [],
   "source": [
    "# Printing frequency"
   ]
  },
  {
   "cell_type": "code",
   "execution_count": 51,
   "id": "1ebb71a9",
   "metadata": {},
   "outputs": [
    {
     "data": {
      "text/plain": [
       "busiest_period_of_day\n",
       "Most orders       16143132\n",
       "Average orders    15694264\n",
       "Fewest orders       596816\n",
       "Name: count, dtype: int64"
      ]
     },
     "execution_count": 51,
     "metadata": {},
     "output_type": "execute_result"
    }
   ],
   "source": [
    "orders_products_merged['busiest_period_of_day'].value_counts()"
   ]
  },
  {
   "cell_type": "code",
   "execution_count": 52,
   "id": "08737bdf",
   "metadata": {},
   "outputs": [],
   "source": [
    "# Question 7\n",
    "\n",
    "orders_products_merged.to_pickle(os.path.join(path, '02 Data','Prepared Data', 'orders_products_merged_updated.pkl'))"
   ]
  },
  {
   "cell_type": "code",
   "execution_count": null,
   "id": "1f2d8619",
   "metadata": {},
   "outputs": [],
   "source": []
  }
 ],
 "metadata": {
  "kernelspec": {
   "display_name": "Python 3 (ipykernel)",
   "language": "python",
   "name": "python3"
  },
  "language_info": {
   "codemirror_mode": {
    "name": "ipython",
    "version": 3
   },
   "file_extension": ".py",
   "mimetype": "text/x-python",
   "name": "python",
   "nbconvert_exporter": "python",
   "pygments_lexer": "ipython3",
   "version": "3.11.4"
  }
 },
 "nbformat": 4,
 "nbformat_minor": 5
}
